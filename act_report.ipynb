{
 "cells": [
  {
   "cell_type": "markdown",
   "metadata": {},
   "source": [
    "# Data analysis\n",
    "* inner merge all three tables based on `tweet_id`\n",
    "* plot rating denominator versus numerator, most values follow straight line as expected\n",
    "* plot retweet count vs favorite count. we can see the more tweet is retweeted the more it is favored as well.\n",
    "* bar plot of dog types. we can see that `pupper` is the most popular dog type\n",
    "* among the top 20 breeds, the most popular is `golden retriever` followed by `labrador retriever`"
   ]
  },
  {
   "cell_type": "code",
   "execution_count": null,
   "metadata": {
    "inputHidden": false,
    "outputHidden": false
   },
   "outputs": [],
   "source": []
  }
 ],
 "metadata": {
  "kernel_info": {
   "name": "py-torch"
  },
  "kernelspec": {
   "display_name": "tf",
   "language": "python",
   "name": "py-torch"
  },
  "language_info": {
   "codemirror_mode": {
    "name": "ipython",
    "version": 3
   },
   "file_extension": ".py",
   "mimetype": "text/x-python",
   "name": "python",
   "nbconvert_exporter": "python",
   "pygments_lexer": "ipython3",
   "version": "3.6.5"
  },
  "nteract": {
   "version": "0.12.3"
  }
 },
 "nbformat": 4,
 "nbformat_minor": 2
}

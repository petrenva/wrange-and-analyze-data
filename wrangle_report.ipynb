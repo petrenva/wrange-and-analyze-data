{
 "cells": [
  {
   "cell_type": "markdown",
   "metadata": {},
   "source": [
    "# Data gathering\n",
    "## Twitter archive data\n",
    "* get twitter archive from file: `twitter-archive-enhanced.csv`\n",
    "* the data consists of 2356 records and 17 columns\n",
    "* first let's confirm that there are no duplicates\n",
    "* if we box plot rating numerator and denominator, we can see there are many outliers, both properties go well beyong 100\n",
    "* in fact, frequency count shows that the vast majority of rating denominator is 10\n",
    "* there is one 0 value in denominator, it should be removed\n",
    "* in the data, we have 181 retweets, these should be removed\n",
    "* if we look at the name, most values are set to None, 745/957, consisting of 75%, so this is not a good descriptor\n",
    "\n",
    "## Image prediction data\n",
    "The data predicts dog's breed bases on the image from a tweet. There are 3 prediction methods with corresponding confidence probabilities that the breed was assigned.\n",
    "* get data from remote file `image-predictions.tsv` hosted on cloudfront\n",
    "* the data has 2075 records with 12 columns\n",
    "* while the first method is the most accurate (identified 1532 out of 2075) as dogs, collectively all three methods identified 1751 images as dogs\n",
    "\n",
    "## Get tweets from twitter\n",
    "* retrieve all tweets from tweeter from  `twitter-archive-enhanced.csv` tweet ids using twitter's REST API, and save data to file `tweet_json.txt`\n",
    "* also, save errors in file `fail_dict.txt`\n",
    "* we ended up with 9 invalida tweet ids"
   ]
  },
  {
   "cell_type": "markdown",
   "metadata": {},
   "source": [
    "# Assessing data\n",
    "### Quality\n",
    "#### df_enhanced table\n",
    "* remove retweets by deleting rows that have retweeted_status_id\n",
    "* remove columns with in_reply_to, since there are only few of them with data\n",
    "* one record has rating_denominator as zero, potentially leading to division by zero. we can fix it from text string\n",
    "* name column has English articles, like: 'a', 'an', 'the' - which should be replaced with None to avoid confusion with real names\n",
    "\n",
    "#### image prediction table\n",
    "* some of the tweet's images were not identified as dogs by all 3 methods, those need to be removed\n",
    "\n",
    "#### tweets table using tweeter API\n",
    "* 9 tweet_ids results in error: 'No status found with that ID.'\n",
    "* columns with no data: contributors, coordinates, geo\n",
    "* columns with 1 value: place\n",
    "\n",
    "### Tidiness\n",
    "#### df_enhanced table\n",
    "* remove all columns that start with retweet\n",
    "* timestamp column should be converted to datetime object\n",
    "* for name,doggo,floofer,pupper,puppo columns replace 'None' with empty string\n",
    "* convert dog stages to boolean\n",
    "\n",
    "#### tweets table\n",
    "* rename id to tweet_id to be consistent with the other two tables"
   ]
  },
  {
   "cell_type": "markdown",
   "metadata": {
    "collapsed": true
   },
   "source": [
    "# Cleaning data\n",
    "## Twitter archive data\n",
    "* remove retweets\n",
    "* remove all columns related to retweets\n",
    "* fix record with zero denominator for rating\n",
    "* set timestamp data type\n",
    "* convert dog types to categorical variables\n"
   ]
  },
  {
   "cell_type": "markdown",
   "metadata": {},
   "source": []
  }
 ],
 "metadata": {
  "kernel_info": {
   "name": "py-torch"
  },
  "kernelspec": {
   "display_name": "tf",
   "language": "python",
   "name": "py-torch"
  },
  "language_info": {
   "codemirror_mode": {
    "name": "ipython",
    "version": 3
   },
   "file_extension": ".py",
   "mimetype": "text/x-python",
   "name": "python",
   "nbconvert_exporter": "python",
   "pygments_lexer": "ipython3",
   "version": "3.6.5"
  },
  "nteract": {
   "version": "0.12.3"
  }
 },
 "nbformat": 4,
 "nbformat_minor": 2
}
